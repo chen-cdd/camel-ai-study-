{
 "cells": [
  {
   "cell_type": "code",
   "execution_count": 2,
   "metadata": {},
   "outputs": [],
   "source": [
    "from camel.agents import ChatAgent\n",
    "from camel.models import ModelFactory\n",
    "from camel.types import ModelPlatformType\n",
    "from camel.messages import BaseMessage\n",
    "from camel.societies.workforce import Workforce\n",
    "from camel.toolkits import SearchToolkit\n",
    "from camel.tasks import Task\n",
    "from camel.toolkits import FunctionTool\n",
    "\n",
    "import os\n",
    "\n",
    "model = ModelFactory.create(\n",
    "    model_platform=ModelPlatformType.OPENAI_COMPATIBLE_MODEL,\n",
    "    model_type=\"Qwen/Qwen2.5-72B-Instruct\",\n",
    "    url='https://api-inference.modelscope.cn/v1/',\n",
    "     api_key='94f17f1f-3099-4689-83dd-83f8f3698ee8'\n",
    ")\n",
    "        \n",
    "# 创建一个 Workforce 实例\n",
    "workforce = Workforce(\n",
    "    description=\"旅游攻略制作与评估工作组\",\n",
    "    new_worker_agent_kwargs={'model':model},\n",
    "    coordinator_agent_kwargs={'model':model},\n",
    "    task_agent_kwargs={'model':model}\n",
    ")\n",
    "\n",
    "search_tool = FunctionTool(SearchToolkit().search_duckduckgo)"
   ]
  },
  {
   "cell_type": "code",
   "execution_count": 3,
   "metadata": {},
   "outputs": [],
   "source": [
    "search_agent = ChatAgent(\n",
    "            system_message=\"\"\"你是一个专业的旅游信息搜索助手。你的职责是:\n",
    "                1. 搜索目的地的主要景点信息\n",
    "                2. 搜索当地特色美食信息\n",
    "                3. 搜索交通和住宿相关信息\n",
    "                请确保信息的准确性和实用性。\"\"\",\n",
    "            model=model,\n",
    "            tools=[search_tool],\n",
    "            output_language='中文'\n",
    "        )"
   ]
  },
  {
   "cell_type": "code",
   "execution_count": 4,
   "metadata": {},
   "outputs": [],
   "source": [
    "planner_agent = ChatAgent(\n",
    "            system_message=\"\"\"你是一个专业的旅行规划师。你的职责是:\n",
    "                1. 根据景点分布规划合理的游览顺序\n",
    "                2. 为每天安排适量的景点和活动\n",
    "                3. 考虑用餐、休息等时间\n",
    "                4. 注意不同季节的特点\n",
    "                请确保行程安排合理且具有可行性。\"\"\",\n",
    "            model=model,\n",
    "            output_language='中文'\n",
    "        )"
   ]
  },
  {
   "cell_type": "code",
   "execution_count": 5,
   "metadata": {},
   "outputs": [],
   "source": [
    "reviewer_agent = ChatAgent(\n",
    "    system_message=\"\"\"你是一个经验丰富的旅行爱好者。你的职责是:\n",
    "        1. 从游客角度评估行程的合理性\n",
    "        2. 指出可能的问题和改进建议\n",
    "        3. 补充实用的旅行小贴士\n",
    "        4. 评估行程的性价比\n",
    "        请基于实际旅行经验给出中肯的建议。\"\"\",\n",
    "    model=model,\n",
    "    output_language='中文'\n",
    ")"
   ]
  },
  {
   "cell_type": "code",
   "execution_count": 6,
   "metadata": {},
   "outputs": [
    {
     "data": {
      "text/plain": [
       "Workforce 2399449069712 (旅游攻略制作与评估工作组)"
      ]
     },
     "execution_count": 6,
     "metadata": {},
     "output_type": "execute_result"
    }
   ],
   "source": [
    "# 添加一个执行网页搜索的Agent\n",
    "workforce.add_single_agent_worker(\n",
    "    \"一个能够执行网页搜索的Agent\",    worker=search_agent,\n",
    ")\n",
    "\n",
    "# 添加工作节点\n",
    "workforce.add_single_agent_worker(\n",
    "    \"负责搜索目的地相关信息\",\n",
    "    worker=search_agent\n",
    ").add_single_agent_worker(\n",
    "    \"负责制定详细行程规划\",\n",
    "    worker=planner_agent\n",
    ").add_single_agent_worker(\n",
    "    \"负责从游客角度评估行程\",\n",
    "    worker=reviewer_agent\n",
    ")"
   ]
  },
  {
   "cell_type": "markdown",
   "metadata": {},
   "source": [
    "from camel.tasks import Task\n",
    "\n",
    "# 创建一个用于测试的任务\n",
    "task = Task(\n",
    "    content=\"规划一个3天的巴黎旅行计划。\",\n",
    "    id=\"0\",  # id可以是任何标记字符串\n",
    ")\n",
    "\n",
    "# 使用jupyter来运行代码请打开下面两行注释\n",
    "import nest_asyncio\n",
    "nest_asyncio.apply()\n",
    "\n",
    "# 让 Workforce 处理这个任务\n",
    "task = workforce.process_task(task)\n",
    "\n",
    "print(task.result)"
   ]
  },
  {
   "cell_type": "code",
   "execution_count": null,
   "metadata": {},
   "outputs": [
    {
     "name": "stdout",
     "output_type": "stream",
     "text": [
      "2025-03-17 09:29:01,730 - camel.agents.chat_agent - WARNING - Failed to parse response: Certainly! Here's the formatted content:\n",
      "\n",
      "---\n",
      "\n",
      "Based on the task requirements and the descriptions of the available worker nodes, the most suitable worker node for this task is:\n",
      "\n",
      "**<2398765383248>:<负责搜索目的地相关信息>:<tools: search_duckduckgo>**\n",
      "\n",
      "This worker node is specifically designed to handle tasks related to searching for destination-related information. It aligns perfectly with the task of collecting information about Paris tourism, including must-visit attractions, food recommendations, and cultural activities.\n",
      "\n",
      "---\n"
     ]
    },
    {
     "ename": "JSONDecodeError",
     "evalue": "Expecting value: line 1 column 1 (char 0)",
     "output_type": "error",
     "traceback": [
      "\u001b[1;31m---------------------------------------------------------------------------\u001b[0m",
      "\u001b[1;31mJSONDecodeError\u001b[0m                           Traceback (most recent call last)",
      "Cell \u001b[1;32mIn[7], line 14\u001b[0m\n\u001b[0;32m     11\u001b[0m nest_asyncio\u001b[38;5;241m.\u001b[39mapply()\n\u001b[0;32m     13\u001b[0m \u001b[38;5;66;03m# 让 Workforce 处理这个任务\u001b[39;00m\n\u001b[1;32m---> 14\u001b[0m task \u001b[38;5;241m=\u001b[39m \u001b[43mworkforce\u001b[49m\u001b[38;5;241;43m.\u001b[39;49m\u001b[43mprocess_task\u001b[49m\u001b[43m(\u001b[49m\u001b[43mtask\u001b[49m\u001b[43m)\u001b[49m\n\u001b[0;32m     16\u001b[0m \u001b[38;5;28mprint\u001b[39m(task\u001b[38;5;241m.\u001b[39mresult)\n",
      "File \u001b[1;32md:\\anaconda3\\envs\\aiLearn\\Lib\\site-packages\\camel\\societies\\workforce\\utils.py:69\u001b[0m, in \u001b[0;36mcheck_if_running.<locals>.decorator.<locals>.wrapper\u001b[1;34m(self, *args, **kwargs)\u001b[0m\n\u001b[0;32m     64\u001b[0m     status \u001b[38;5;241m=\u001b[39m \u001b[38;5;124m\"\u001b[39m\u001b[38;5;124mnot running\u001b[39m\u001b[38;5;124m\"\u001b[39m \u001b[38;5;28;01mif\u001b[39;00m running \u001b[38;5;28;01melse\u001b[39;00m \u001b[38;5;124m\"\u001b[39m\u001b[38;5;124mrunning\u001b[39m\u001b[38;5;124m\"\u001b[39m\n\u001b[0;32m     65\u001b[0m     \u001b[38;5;28;01mraise\u001b[39;00m \u001b[38;5;167;01mRuntimeError\u001b[39;00m(\n\u001b[0;32m     66\u001b[0m         \u001b[38;5;124mf\u001b[39m\u001b[38;5;124m\"\u001b[39m\u001b[38;5;124mThe workforce is \u001b[39m\u001b[38;5;132;01m{\u001b[39;00mstatus\u001b[38;5;132;01m}\u001b[39;00m\u001b[38;5;124m. Cannot perform the \u001b[39m\u001b[38;5;124m\"\u001b[39m\n\u001b[0;32m     67\u001b[0m         \u001b[38;5;124mf\u001b[39m\u001b[38;5;124m\"\u001b[39m\u001b[38;5;124moperation \u001b[39m\u001b[38;5;132;01m{\u001b[39;00mfunc\u001b[38;5;241m.\u001b[39m\u001b[38;5;18m__name__\u001b[39m\u001b[38;5;132;01m}\u001b[39;00m\u001b[38;5;124m.\u001b[39m\u001b[38;5;124m\"\u001b[39m\n\u001b[0;32m     68\u001b[0m     )\n\u001b[1;32m---> 69\u001b[0m \u001b[38;5;28;01mreturn\u001b[39;00m \u001b[43mfunc\u001b[49m\u001b[43m(\u001b[49m\u001b[38;5;28;43mself\u001b[39;49m\u001b[43m,\u001b[49m\u001b[43m \u001b[49m\u001b[38;5;241;43m*\u001b[39;49m\u001b[43margs\u001b[49m\u001b[43m,\u001b[49m\u001b[43m \u001b[49m\u001b[38;5;241;43m*\u001b[39;49m\u001b[38;5;241;43m*\u001b[39;49m\u001b[43mkwargs\u001b[49m\u001b[43m)\u001b[49m\n",
      "File \u001b[1;32md:\\anaconda3\\envs\\aiLearn\\Lib\\site-packages\\camel\\societies\\workforce\\workforce.py:153\u001b[0m, in \u001b[0;36mWorkforce.process_task\u001b[1;34m(self, task)\u001b[0m\n\u001b[0;32m    150\u001b[0m \u001b[38;5;28mself\u001b[39m\u001b[38;5;241m.\u001b[39m_pending_tasks\u001b[38;5;241m.\u001b[39mextendleft(\u001b[38;5;28mreversed\u001b[39m(subtasks))\n\u001b[0;32m    151\u001b[0m \u001b[38;5;28mself\u001b[39m\u001b[38;5;241m.\u001b[39mset_channel(TaskChannel())\n\u001b[1;32m--> 153\u001b[0m \u001b[43masyncio\u001b[49m\u001b[38;5;241;43m.\u001b[39;49m\u001b[43mrun\u001b[49m\u001b[43m(\u001b[49m\u001b[38;5;28;43mself\u001b[39;49m\u001b[38;5;241;43m.\u001b[39;49m\u001b[43mstart\u001b[49m\u001b[43m(\u001b[49m\u001b[43m)\u001b[49m\u001b[43m)\u001b[49m\n\u001b[0;32m    155\u001b[0m \u001b[38;5;28;01mreturn\u001b[39;00m task\n",
      "File \u001b[1;32md:\\anaconda3\\envs\\aiLearn\\Lib\\site-packages\\nest_asyncio.py:30\u001b[0m, in \u001b[0;36m_patch_asyncio.<locals>.run\u001b[1;34m(main, debug)\u001b[0m\n\u001b[0;32m     28\u001b[0m task \u001b[38;5;241m=\u001b[39m asyncio\u001b[38;5;241m.\u001b[39mensure_future(main)\n\u001b[0;32m     29\u001b[0m \u001b[38;5;28;01mtry\u001b[39;00m:\n\u001b[1;32m---> 30\u001b[0m     \u001b[38;5;28;01mreturn\u001b[39;00m \u001b[43mloop\u001b[49m\u001b[38;5;241;43m.\u001b[39;49m\u001b[43mrun_until_complete\u001b[49m\u001b[43m(\u001b[49m\u001b[43mtask\u001b[49m\u001b[43m)\u001b[49m\n\u001b[0;32m     31\u001b[0m \u001b[38;5;28;01mfinally\u001b[39;00m:\n\u001b[0;32m     32\u001b[0m     \u001b[38;5;28;01mif\u001b[39;00m \u001b[38;5;129;01mnot\u001b[39;00m task\u001b[38;5;241m.\u001b[39mdone():\n",
      "File \u001b[1;32md:\\anaconda3\\envs\\aiLearn\\Lib\\site-packages\\nest_asyncio.py:98\u001b[0m, in \u001b[0;36m_patch_loop.<locals>.run_until_complete\u001b[1;34m(self, future)\u001b[0m\n\u001b[0;32m     95\u001b[0m \u001b[38;5;28;01mif\u001b[39;00m \u001b[38;5;129;01mnot\u001b[39;00m f\u001b[38;5;241m.\u001b[39mdone():\n\u001b[0;32m     96\u001b[0m     \u001b[38;5;28;01mraise\u001b[39;00m \u001b[38;5;167;01mRuntimeError\u001b[39;00m(\n\u001b[0;32m     97\u001b[0m         \u001b[38;5;124m'\u001b[39m\u001b[38;5;124mEvent loop stopped before Future completed.\u001b[39m\u001b[38;5;124m'\u001b[39m)\n\u001b[1;32m---> 98\u001b[0m \u001b[38;5;28;01mreturn\u001b[39;00m \u001b[43mf\u001b[49m\u001b[38;5;241;43m.\u001b[39;49m\u001b[43mresult\u001b[49m\u001b[43m(\u001b[49m\u001b[43m)\u001b[49m\n",
      "File \u001b[1;32md:\\anaconda3\\envs\\aiLearn\\Lib\\asyncio\\futures.py:203\u001b[0m, in \u001b[0;36mFuture.result\u001b[1;34m(self)\u001b[0m\n\u001b[0;32m    201\u001b[0m \u001b[38;5;28mself\u001b[39m\u001b[38;5;241m.\u001b[39m__log_traceback \u001b[38;5;241m=\u001b[39m \u001b[38;5;28;01mFalse\u001b[39;00m\n\u001b[0;32m    202\u001b[0m \u001b[38;5;28;01mif\u001b[39;00m \u001b[38;5;28mself\u001b[39m\u001b[38;5;241m.\u001b[39m_exception \u001b[38;5;129;01mis\u001b[39;00m \u001b[38;5;129;01mnot\u001b[39;00m \u001b[38;5;28;01mNone\u001b[39;00m:\n\u001b[1;32m--> 203\u001b[0m     \u001b[38;5;28;01mraise\u001b[39;00m \u001b[38;5;28mself\u001b[39m\u001b[38;5;241m.\u001b[39m_exception\u001b[38;5;241m.\u001b[39mwith_traceback(\u001b[38;5;28mself\u001b[39m\u001b[38;5;241m.\u001b[39m_exception_tb)\n\u001b[0;32m    204\u001b[0m \u001b[38;5;28;01mreturn\u001b[39;00m \u001b[38;5;28mself\u001b[39m\u001b[38;5;241m.\u001b[39m_result\n",
      "File \u001b[1;32md:\\anaconda3\\envs\\aiLearn\\Lib\\asyncio\\tasks.py:277\u001b[0m, in \u001b[0;36mTask.__step\u001b[1;34m(***failed resolving arguments***)\u001b[0m\n\u001b[0;32m    273\u001b[0m \u001b[38;5;28;01mtry\u001b[39;00m:\n\u001b[0;32m    274\u001b[0m     \u001b[38;5;28;01mif\u001b[39;00m exc \u001b[38;5;129;01mis\u001b[39;00m \u001b[38;5;28;01mNone\u001b[39;00m:\n\u001b[0;32m    275\u001b[0m         \u001b[38;5;66;03m# We use the `send` method directly, because coroutines\u001b[39;00m\n\u001b[0;32m    276\u001b[0m         \u001b[38;5;66;03m# don't have `__iter__` and `__next__` methods.\u001b[39;00m\n\u001b[1;32m--> 277\u001b[0m         result \u001b[38;5;241m=\u001b[39m \u001b[43mcoro\u001b[49m\u001b[38;5;241;43m.\u001b[39;49m\u001b[43msend\u001b[49m\u001b[43m(\u001b[49m\u001b[38;5;28;43;01mNone\u001b[39;49;00m\u001b[43m)\u001b[49m\n\u001b[0;32m    278\u001b[0m     \u001b[38;5;28;01melse\u001b[39;00m:\n\u001b[0;32m    279\u001b[0m         result \u001b[38;5;241m=\u001b[39m coro\u001b[38;5;241m.\u001b[39mthrow(exc)\n",
      "File \u001b[1;32md:\\anaconda3\\envs\\aiLearn\\Lib\\site-packages\\camel\\societies\\workforce\\workforce.py:469\u001b[0m, in \u001b[0;36mWorkforce.start\u001b[1;34m(self)\u001b[0m\n\u001b[0;32m    467\u001b[0m     child_listening_task \u001b[38;5;241m=\u001b[39m asyncio\u001b[38;5;241m.\u001b[39mcreate_task(child\u001b[38;5;241m.\u001b[39mstart())\n\u001b[0;32m    468\u001b[0m     \u001b[38;5;28mself\u001b[39m\u001b[38;5;241m.\u001b[39m_child_listening_tasks\u001b[38;5;241m.\u001b[39mappend(child_listening_task)\n\u001b[1;32m--> 469\u001b[0m \u001b[38;5;28;01mawait\u001b[39;00m \u001b[38;5;28mself\u001b[39m\u001b[38;5;241m.\u001b[39m_listen_to_channel()\n",
      "File \u001b[1;32md:\\anaconda3\\envs\\aiLearn\\Lib\\site-packages\\camel\\societies\\workforce\\workforce.py:437\u001b[0m, in \u001b[0;36mWorkforce._listen_to_channel\u001b[1;34m(self)\u001b[0m\n\u001b[0;32m    434\u001b[0m \u001b[38;5;28mself\u001b[39m\u001b[38;5;241m.\u001b[39m_running \u001b[38;5;241m=\u001b[39m \u001b[38;5;28;01mTrue\u001b[39;00m\n\u001b[0;32m    435\u001b[0m logger\u001b[38;5;241m.\u001b[39minfo(\u001b[38;5;124mf\u001b[39m\u001b[38;5;124m\"\u001b[39m\u001b[38;5;124mWorkforce \u001b[39m\u001b[38;5;132;01m{\u001b[39;00m\u001b[38;5;28mself\u001b[39m\u001b[38;5;241m.\u001b[39mnode_id\u001b[38;5;132;01m}\u001b[39;00m\u001b[38;5;124m started.\u001b[39m\u001b[38;5;124m\"\u001b[39m)\n\u001b[1;32m--> 437\u001b[0m \u001b[38;5;28;01mawait\u001b[39;00m \u001b[38;5;28mself\u001b[39m\u001b[38;5;241m.\u001b[39m_post_ready_tasks()\n\u001b[0;32m    439\u001b[0m \u001b[38;5;28;01mwhile\u001b[39;00m \u001b[38;5;28mself\u001b[39m\u001b[38;5;241m.\u001b[39m_task \u001b[38;5;129;01mis\u001b[39;00m \u001b[38;5;28;01mNone\u001b[39;00m \u001b[38;5;129;01mor\u001b[39;00m \u001b[38;5;28mself\u001b[39m\u001b[38;5;241m.\u001b[39m_pending_tasks:\n\u001b[0;32m    440\u001b[0m     returned_task \u001b[38;5;241m=\u001b[39m \u001b[38;5;28;01mawait\u001b[39;00m \u001b[38;5;28mself\u001b[39m\u001b[38;5;241m.\u001b[39m_get_returned_task()\n",
      "File \u001b[1;32md:\\anaconda3\\envs\\aiLearn\\Lib\\site-packages\\camel\\societies\\workforce\\workforce.py:402\u001b[0m, in \u001b[0;36mWorkforce._post_ready_tasks\u001b[1;34m(self)\u001b[0m\n\u001b[0;32m    398\u001b[0m     \u001b[38;5;28;01mawait\u001b[39;00m \u001b[38;5;28mself\u001b[39m\u001b[38;5;241m.\u001b[39m_post_ready_tasks()\n\u001b[0;32m    399\u001b[0m \u001b[38;5;28;01melse\u001b[39;00m:\n\u001b[0;32m    400\u001b[0m     \u001b[38;5;66;03m# Directly post the task to the channel if it's a new one\u001b[39;00m\n\u001b[0;32m    401\u001b[0m     \u001b[38;5;66;03m# Find a node to assign the task\u001b[39;00m\n\u001b[1;32m--> 402\u001b[0m     assignee_id \u001b[38;5;241m=\u001b[39m \u001b[38;5;28;43mself\u001b[39;49m\u001b[38;5;241;43m.\u001b[39;49m\u001b[43m_find_assignee\u001b[49m\u001b[43m(\u001b[49m\u001b[43mtask\u001b[49m\u001b[38;5;241;43m=\u001b[39;49m\u001b[43mready_task\u001b[49m\u001b[43m)\u001b[49m\n\u001b[0;32m    403\u001b[0m     \u001b[38;5;28;01mawait\u001b[39;00m \u001b[38;5;28mself\u001b[39m\u001b[38;5;241m.\u001b[39m_post_task(ready_task, assignee_id)\n",
      "File \u001b[1;32md:\\anaconda3\\envs\\aiLearn\\Lib\\site-packages\\camel\\societies\\workforce\\workforce.py:288\u001b[0m, in \u001b[0;36mWorkforce._find_assignee\u001b[1;34m(self, task)\u001b[0m\n\u001b[0;32m    279\u001b[0m prompt \u001b[38;5;241m=\u001b[39m ASSIGN_TASK_PROMPT\u001b[38;5;241m.\u001b[39mformat(\n\u001b[0;32m    280\u001b[0m     content\u001b[38;5;241m=\u001b[39mtask\u001b[38;5;241m.\u001b[39mcontent,\n\u001b[0;32m    281\u001b[0m     child_nodes_info\u001b[38;5;241m=\u001b[39m\u001b[38;5;28mself\u001b[39m\u001b[38;5;241m.\u001b[39m_get_child_nodes_info(),\n\u001b[0;32m    282\u001b[0m     additional_info\u001b[38;5;241m=\u001b[39mtask\u001b[38;5;241m.\u001b[39madditional_info,\n\u001b[0;32m    283\u001b[0m )\n\u001b[0;32m    285\u001b[0m response \u001b[38;5;241m=\u001b[39m \u001b[38;5;28mself\u001b[39m\u001b[38;5;241m.\u001b[39mcoordinator_agent\u001b[38;5;241m.\u001b[39mstep(\n\u001b[0;32m    286\u001b[0m     prompt, response_format\u001b[38;5;241m=\u001b[39mTaskAssignResult\n\u001b[0;32m    287\u001b[0m )\n\u001b[1;32m--> 288\u001b[0m result_dict \u001b[38;5;241m=\u001b[39m \u001b[43mjson\u001b[49m\u001b[38;5;241;43m.\u001b[39;49m\u001b[43mloads\u001b[49m\u001b[43m(\u001b[49m\u001b[43mresponse\u001b[49m\u001b[38;5;241;43m.\u001b[39;49m\u001b[43mmsg\u001b[49m\u001b[38;5;241;43m.\u001b[39;49m\u001b[43mcontent\u001b[49m\u001b[43m)\u001b[49m\n\u001b[0;32m    289\u001b[0m task_assign_result \u001b[38;5;241m=\u001b[39m TaskAssignResult(\u001b[38;5;241m*\u001b[39m\u001b[38;5;241m*\u001b[39mresult_dict)\n\u001b[0;32m    290\u001b[0m \u001b[38;5;28;01mreturn\u001b[39;00m task_assign_result\u001b[38;5;241m.\u001b[39massignee_id\n",
      "File \u001b[1;32md:\\anaconda3\\envs\\aiLearn\\Lib\\json\\__init__.py:346\u001b[0m, in \u001b[0;36mloads\u001b[1;34m(s, cls, object_hook, parse_float, parse_int, parse_constant, object_pairs_hook, **kw)\u001b[0m\n\u001b[0;32m    341\u001b[0m     s \u001b[38;5;241m=\u001b[39m s\u001b[38;5;241m.\u001b[39mdecode(detect_encoding(s), \u001b[38;5;124m'\u001b[39m\u001b[38;5;124msurrogatepass\u001b[39m\u001b[38;5;124m'\u001b[39m)\n\u001b[0;32m    343\u001b[0m \u001b[38;5;28;01mif\u001b[39;00m (\u001b[38;5;28mcls\u001b[39m \u001b[38;5;129;01mis\u001b[39;00m \u001b[38;5;28;01mNone\u001b[39;00m \u001b[38;5;129;01mand\u001b[39;00m object_hook \u001b[38;5;129;01mis\u001b[39;00m \u001b[38;5;28;01mNone\u001b[39;00m \u001b[38;5;129;01mand\u001b[39;00m\n\u001b[0;32m    344\u001b[0m         parse_int \u001b[38;5;129;01mis\u001b[39;00m \u001b[38;5;28;01mNone\u001b[39;00m \u001b[38;5;129;01mand\u001b[39;00m parse_float \u001b[38;5;129;01mis\u001b[39;00m \u001b[38;5;28;01mNone\u001b[39;00m \u001b[38;5;129;01mand\u001b[39;00m\n\u001b[0;32m    345\u001b[0m         parse_constant \u001b[38;5;129;01mis\u001b[39;00m \u001b[38;5;28;01mNone\u001b[39;00m \u001b[38;5;129;01mand\u001b[39;00m object_pairs_hook \u001b[38;5;129;01mis\u001b[39;00m \u001b[38;5;28;01mNone\u001b[39;00m \u001b[38;5;129;01mand\u001b[39;00m \u001b[38;5;129;01mnot\u001b[39;00m kw):\n\u001b[1;32m--> 346\u001b[0m     \u001b[38;5;28;01mreturn\u001b[39;00m \u001b[43m_default_decoder\u001b[49m\u001b[38;5;241;43m.\u001b[39;49m\u001b[43mdecode\u001b[49m\u001b[43m(\u001b[49m\u001b[43ms\u001b[49m\u001b[43m)\u001b[49m\n\u001b[0;32m    347\u001b[0m \u001b[38;5;28;01mif\u001b[39;00m \u001b[38;5;28mcls\u001b[39m \u001b[38;5;129;01mis\u001b[39;00m \u001b[38;5;28;01mNone\u001b[39;00m:\n\u001b[0;32m    348\u001b[0m     \u001b[38;5;28mcls\u001b[39m \u001b[38;5;241m=\u001b[39m JSONDecoder\n",
      "File \u001b[1;32md:\\anaconda3\\envs\\aiLearn\\Lib\\json\\decoder.py:337\u001b[0m, in \u001b[0;36mJSONDecoder.decode\u001b[1;34m(self, s, _w)\u001b[0m\n\u001b[0;32m    332\u001b[0m \u001b[38;5;28;01mdef\u001b[39;00m \u001b[38;5;21mdecode\u001b[39m(\u001b[38;5;28mself\u001b[39m, s, _w\u001b[38;5;241m=\u001b[39mWHITESPACE\u001b[38;5;241m.\u001b[39mmatch):\n\u001b[0;32m    333\u001b[0m \u001b[38;5;250m    \u001b[39m\u001b[38;5;124;03m\"\"\"Return the Python representation of ``s`` (a ``str`` instance\u001b[39;00m\n\u001b[0;32m    334\u001b[0m \u001b[38;5;124;03m    containing a JSON document).\u001b[39;00m\n\u001b[0;32m    335\u001b[0m \n\u001b[0;32m    336\u001b[0m \u001b[38;5;124;03m    \"\"\"\u001b[39;00m\n\u001b[1;32m--> 337\u001b[0m     obj, end \u001b[38;5;241m=\u001b[39m \u001b[38;5;28;43mself\u001b[39;49m\u001b[38;5;241;43m.\u001b[39;49m\u001b[43mraw_decode\u001b[49m\u001b[43m(\u001b[49m\u001b[43ms\u001b[49m\u001b[43m,\u001b[49m\u001b[43m \u001b[49m\u001b[43midx\u001b[49m\u001b[38;5;241;43m=\u001b[39;49m\u001b[43m_w\u001b[49m\u001b[43m(\u001b[49m\u001b[43ms\u001b[49m\u001b[43m,\u001b[49m\u001b[43m \u001b[49m\u001b[38;5;241;43m0\u001b[39;49m\u001b[43m)\u001b[49m\u001b[38;5;241;43m.\u001b[39;49m\u001b[43mend\u001b[49m\u001b[43m(\u001b[49m\u001b[43m)\u001b[49m\u001b[43m)\u001b[49m\n\u001b[0;32m    338\u001b[0m     end \u001b[38;5;241m=\u001b[39m _w(s, end)\u001b[38;5;241m.\u001b[39mend()\n\u001b[0;32m    339\u001b[0m     \u001b[38;5;28;01mif\u001b[39;00m end \u001b[38;5;241m!=\u001b[39m \u001b[38;5;28mlen\u001b[39m(s):\n",
      "File \u001b[1;32md:\\anaconda3\\envs\\aiLearn\\Lib\\json\\decoder.py:355\u001b[0m, in \u001b[0;36mJSONDecoder.raw_decode\u001b[1;34m(self, s, idx)\u001b[0m\n\u001b[0;32m    353\u001b[0m     obj, end \u001b[38;5;241m=\u001b[39m \u001b[38;5;28mself\u001b[39m\u001b[38;5;241m.\u001b[39mscan_once(s, idx)\n\u001b[0;32m    354\u001b[0m \u001b[38;5;28;01mexcept\u001b[39;00m \u001b[38;5;167;01mStopIteration\u001b[39;00m \u001b[38;5;28;01mas\u001b[39;00m err:\n\u001b[1;32m--> 355\u001b[0m     \u001b[38;5;28;01mraise\u001b[39;00m JSONDecodeError(\u001b[38;5;124m\"\u001b[39m\u001b[38;5;124mExpecting value\u001b[39m\u001b[38;5;124m\"\u001b[39m, s, err\u001b[38;5;241m.\u001b[39mvalue) \u001b[38;5;28;01mfrom\u001b[39;00m \u001b[38;5;28;01mNone\u001b[39;00m\n\u001b[0;32m    356\u001b[0m \u001b[38;5;28;01mreturn\u001b[39;00m obj, end\n",
      "\u001b[1;31mJSONDecodeError\u001b[0m: Expecting value: line 1 column 1 (char 0)"
     ]
    }
   ],
   "source": [
    "# 创建一个更详细的任务描述\n",
    "task = Task(\n",
    "    content=\"\"\"\n",
    "    请规划一个3天的巴黎旅行计划，需要包含以下内容：\n",
    "    1. 每天的行程安排（上午/下午/晚上）\n",
    "    2. 主要景点游览顺序\n",
    "    3. 用餐和休息时间\n",
    "    4. 交通建议\n",
    "    \n",
    "    请确保行程安排合理且实用。\n",
    "    \"\"\",\n",
    "    id=\"paris_trip\",\n",
    "    expected_output_format={\n",
    "        \"type\": \"text\",\n",
    "        \"structure\": \"day_by_day_plan\"\n",
    "    }\n",
    ")\n",
    "\n",
    "# 使用jupyter来运行代码\n",
    "import nest_asyncio\n",
    "nest_asyncio.apply()\n",
    "\n",
    "# 添加错误处理\n",
    "try:\n",
    "    task = workforce.process_task(task)\n",
    "    print(\"任务结果：\")\n",
    "    print(task.result)\n",
    "except Exception as e:\n",
    "    print(f\"处理任务时出现错误: {str(e)}\")\n",
    "    # 尝试使用简单的串行处理\n",
    "    try:\n",
    "        # 获取搜索结果\n",
    "        search_result = search_agent.step(\"搜索巴黎三天游的主要景点信息\")\n",
    "        print(\"\\n搜索结果：\")\n",
    "        print(search_result.msg.content)\n",
    "        \n",
    "        # 制定行程计划\n",
    "        plan = planner_agent.step(f\"基于以下信息制定三天行程：{search_result.msg.content}\")\n",
    "        print(\"\\n行程计划：\")\n",
    "        print(plan.msg.content)\n",
    "        \n",
    "        # 评估行程\n",
    "        review = reviewer_agent.step(f\"评估以下行程：{plan.msg.content}\")\n",
    "        print(\"\\n行程评估：\")\n",
    "        print(review.msg.content)\n",
    "    except Exception as e:\n",
    "        print(f\"备选方案也失败了: {str(e)}\")"
   ]
  },
  {
   "cell_type": "code",
   "execution_count": null,
   "metadata": {},
   "outputs": [],
   "source": []
  }
 ],
 "metadata": {
  "kernelspec": {
   "display_name": "aiLearn",
   "language": "python",
   "name": "python3"
  },
  "language_info": {
   "codemirror_mode": {
    "name": "ipython",
    "version": 3
   },
   "file_extension": ".py",
   "mimetype": "text/x-python",
   "name": "python",
   "nbconvert_exporter": "python",
   "pygments_lexer": "ipython3",
   "version": "3.11.10"
  }
 },
 "nbformat": 4,
 "nbformat_minor": 2
}
