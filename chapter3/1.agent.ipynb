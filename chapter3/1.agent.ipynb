{
 "cells": [
  {
   "cell_type": "code",
   "execution_count": null,
   "metadata": {},
   "outputs": [],
   "source": [
    "from camel.societies import RolePlaying\n",
    "from camel.types import TaskType, ModelType, ModelPlatformType\n",
    "from camel.models import ModelFactory\n",
    "\n",
    "import os\n",
    "\n",
    "model = ModelFactory.create(\n",
    "    model_platform=ModelPlatformType.OPENAI_COMPATIBLE_MODEL,\n",
    "    model_type=\"Qwen/Qwen2.5-72B-Instruct\",\n",
    "    url='https://api-inference.modelscope.cn/v1/',\n",
    "    api_key='94f17f1f-3099-4689-83dd-83f8f3698ee8'\n",
    ")\n",
    "\n",
    "task_kwargs = {\n",
    "    'task_prompt': '制定一个计划去过去并进行改变。',\n",
    "    'with_task_specify': True,#开启后，将会有一个agent将我们的初始prompt进一步明确化\n",
    "    'task_specify_agent_kwargs': {'model': model}\n",
    "}\n",
    "\n",
    "user_role_kwargs = {\n",
    "    'user_role_name': '一个雄心勃勃的渴望成为时间旅行者的人',\n",
    "    'user_agent_kwargs': {'model': model}\n",
    "}\n",
    "\n",
    "assistant_role_kwargs = {\n",
    "    'assistant_role_name': '最优秀的实验物理学家',\n",
    "    'assistant_agent_kwargs': {'model': model}\n",
    "}"
   ]
  },
  {
   "cell_type": "code",
   "execution_count": null,
   "metadata": {},
   "outputs": [],
   "source": []
  },
  {
   "cell_type": "code",
   "execution_count": null,
   "metadata": {},
   "outputs": [],
   "source": []
  },
  {
   "cell_type": "code",
   "execution_count": null,
   "metadata": {},
   "outputs": [],
   "source": []
  }
 ],
 "metadata": {
  "language_info": {
   "name": "python"
  }
 },
 "nbformat": 4,
 "nbformat_minor": 2
}
