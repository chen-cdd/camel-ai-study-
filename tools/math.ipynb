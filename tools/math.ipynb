{
 "cells": [
  {
   "cell_type": "code",
   "execution_count": 1,
   "metadata": {},
   "outputs": [],
   "source": [
    "from camel.agents import ChatAgent\n",
    "from camel.models import ModelFactory\n",
    "from camel.types import ModelPlatformType\n",
    "from camel.messages import BaseMessage\n",
    "\n",
    "import os\n",
    "from dotenv import load_dotenv\n",
    "\n",
    "load_dotenv()\n",
    "# 定义系统消息\n",
    "sys_msg = \"你是一个数学大师，擅长各种数学问题。\"\n",
    "\n",
    "# 初始化agent 调用在线Qwen/Qwen2.5-72B-Instruct\n",
    "\n",
    "api_key = '94f17f1f-3099-4689-83dd-83f8f3698ee8' \n",
    "\n",
    "model = ModelFactory.create(\n",
    "    model_platform=ModelPlatformType.OPENAI_COMPATIBLE_MODEL,\n",
    "    model_type=\"Qwen/Qwen2.5-72B-Instruct\",\n",
    "    url='https://api-inference.modelscope.cn/v1/',\n",
    "    api_key=api_key\n",
    ")\n",
    "agent = ChatAgent(system_message=sys_msg, model=model,output_language='中文')\n",
    "\n",
    "# 定义用户消息\n",
    "usr_msg = \"19987+2133等于多少？\""
   ]
  },
  {
   "cell_type": "code",
   "execution_count": 2,
   "metadata": {},
   "outputs": [
    {
     "name": "stdout",
     "output_type": "stream",
     "text": [
      "19987 + 2133 等于 22120。\n"
     ]
    }
   ],
   "source": [
    "# 发送消息给agent\n",
    "response = agent.step(usr_msg)\n",
    "print(response.msgs[0].content)"
   ]
  }
 ],
 "metadata": {
  "kernelspec": {
   "display_name": "aiLearn",
   "language": "python",
   "name": "python3"
  },
  "language_info": {
   "codemirror_mode": {
    "name": "ipython",
    "version": 3
   },
   "file_extension": ".py",
   "mimetype": "text/x-python",
   "name": "python",
   "nbconvert_exporter": "python",
   "pygments_lexer": "ipython3",
   "version": "3.11.10"
  }
 },
 "nbformat": 4,
 "nbformat_minor": 2
}
